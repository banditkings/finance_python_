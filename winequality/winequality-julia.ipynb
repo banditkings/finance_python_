{
 "cells": [
  {
   "cell_type": "markdown",
   "id": "8f48bd36",
   "metadata": {},
   "source": [
    "# Wine Quality Prediction - in Julia\n",
    "\n",
    "(A workshop for introductory applied linear regression in Python as part of an internal analyst training program)"
   ]
  },
  {
   "cell_type": "markdown",
   "id": "0114189b",
   "metadata": {},
   "source": [
    "Demonstrate one of the canonical applications of linear regression - the wine quality prediction dataset!"
   ]
  },
  {
   "cell_type": "code",
   "execution_count": 4,
   "id": "f27b99c2",
   "metadata": {},
   "outputs": [],
   "source": [
    "using DataFrames\n",
    "using CSV\n",
    "using Statistics"
   ]
  },
  {
   "cell_type": "markdown",
   "id": "adaaa3cf",
   "metadata": {},
   "source": [
    "The following code block will try to read in the CSV file if you have it downloaded, otherwise it'll download it from the internet and save it for future use."
   ]
  },
  {
   "cell_type": "code",
   "execution_count": 39,
   "id": "4ed3559f",
   "metadata": {},
   "outputs": [
    {
     "data": {
      "text/html": [
       "<div class=\"data-frame\"><p>1,599 rows × 12 columns (omitted printing of 6 columns)</p><table class=\"data-frame\"><thead><tr><th></th><th>fixed acidity</th><th>volatile acidity</th><th>citric acid</th><th>residual sugar</th><th>chlorides</th><th>free sulfur dioxide</th></tr><tr><th></th><th title=\"Float64\">Float64</th><th title=\"Float64\">Float64</th><th title=\"Float64\">Float64</th><th title=\"Float64\">Float64</th><th title=\"Float64\">Float64</th><th title=\"Float64\">Float64</th></tr></thead><tbody><tr><th>1</th><td>7.4</td><td>0.7</td><td>0.0</td><td>1.9</td><td>0.076</td><td>11.0</td></tr><tr><th>2</th><td>7.8</td><td>0.88</td><td>0.0</td><td>2.6</td><td>0.098</td><td>25.0</td></tr><tr><th>3</th><td>7.8</td><td>0.76</td><td>0.04</td><td>2.3</td><td>0.092</td><td>15.0</td></tr><tr><th>4</th><td>11.2</td><td>0.28</td><td>0.56</td><td>1.9</td><td>0.075</td><td>17.0</td></tr><tr><th>5</th><td>7.4</td><td>0.7</td><td>0.0</td><td>1.9</td><td>0.076</td><td>11.0</td></tr><tr><th>6</th><td>7.4</td><td>0.66</td><td>0.0</td><td>1.8</td><td>0.075</td><td>13.0</td></tr><tr><th>7</th><td>7.9</td><td>0.6</td><td>0.06</td><td>1.6</td><td>0.069</td><td>15.0</td></tr><tr><th>8</th><td>7.3</td><td>0.65</td><td>0.0</td><td>1.2</td><td>0.065</td><td>15.0</td></tr><tr><th>9</th><td>7.8</td><td>0.58</td><td>0.02</td><td>2.0</td><td>0.073</td><td>9.0</td></tr><tr><th>10</th><td>7.5</td><td>0.5</td><td>0.36</td><td>6.1</td><td>0.071</td><td>17.0</td></tr><tr><th>11</th><td>6.7</td><td>0.58</td><td>0.08</td><td>1.8</td><td>0.097</td><td>15.0</td></tr><tr><th>12</th><td>7.5</td><td>0.5</td><td>0.36</td><td>6.1</td><td>0.071</td><td>17.0</td></tr><tr><th>13</th><td>5.6</td><td>0.615</td><td>0.0</td><td>1.6</td><td>0.089</td><td>16.0</td></tr><tr><th>14</th><td>7.8</td><td>0.61</td><td>0.29</td><td>1.6</td><td>0.114</td><td>9.0</td></tr><tr><th>15</th><td>8.9</td><td>0.62</td><td>0.18</td><td>3.8</td><td>0.176</td><td>52.0</td></tr><tr><th>16</th><td>8.9</td><td>0.62</td><td>0.19</td><td>3.9</td><td>0.17</td><td>51.0</td></tr><tr><th>17</th><td>8.5</td><td>0.28</td><td>0.56</td><td>1.8</td><td>0.092</td><td>35.0</td></tr><tr><th>18</th><td>8.1</td><td>0.56</td><td>0.28</td><td>1.7</td><td>0.368</td><td>16.0</td></tr><tr><th>19</th><td>7.4</td><td>0.59</td><td>0.08</td><td>4.4</td><td>0.086</td><td>6.0</td></tr><tr><th>20</th><td>7.9</td><td>0.32</td><td>0.51</td><td>1.8</td><td>0.341</td><td>17.0</td></tr><tr><th>21</th><td>8.9</td><td>0.22</td><td>0.48</td><td>1.8</td><td>0.077</td><td>29.0</td></tr><tr><th>22</th><td>7.6</td><td>0.39</td><td>0.31</td><td>2.3</td><td>0.082</td><td>23.0</td></tr><tr><th>23</th><td>7.9</td><td>0.43</td><td>0.21</td><td>1.6</td><td>0.106</td><td>10.0</td></tr><tr><th>24</th><td>8.5</td><td>0.49</td><td>0.11</td><td>2.3</td><td>0.084</td><td>9.0</td></tr><tr><th>25</th><td>6.9</td><td>0.4</td><td>0.14</td><td>2.4</td><td>0.085</td><td>21.0</td></tr><tr><th>26</th><td>6.3</td><td>0.39</td><td>0.16</td><td>1.4</td><td>0.08</td><td>11.0</td></tr><tr><th>27</th><td>7.6</td><td>0.41</td><td>0.24</td><td>1.8</td><td>0.08</td><td>4.0</td></tr><tr><th>28</th><td>7.9</td><td>0.43</td><td>0.21</td><td>1.6</td><td>0.106</td><td>10.0</td></tr><tr><th>29</th><td>7.1</td><td>0.71</td><td>0.0</td><td>1.9</td><td>0.08</td><td>14.0</td></tr><tr><th>30</th><td>7.8</td><td>0.645</td><td>0.0</td><td>2.0</td><td>0.082</td><td>8.0</td></tr><tr><th>&vellip;</th><td>&vellip;</td><td>&vellip;</td><td>&vellip;</td><td>&vellip;</td><td>&vellip;</td><td>&vellip;</td></tr></tbody></table></div>"
      ],
      "text/latex": [
       "\\begin{tabular}{r|ccccccc}\n",
       "\t& fixed acidity & volatile acidity & citric acid & residual sugar & chlorides & free sulfur dioxide & \\\\\n",
       "\t\\hline\n",
       "\t& Float64 & Float64 & Float64 & Float64 & Float64 & Float64 & \\\\\n",
       "\t\\hline\n",
       "\t1 & 7.4 & 0.7 & 0.0 & 1.9 & 0.076 & 11.0 & $\\dots$ \\\\\n",
       "\t2 & 7.8 & 0.88 & 0.0 & 2.6 & 0.098 & 25.0 & $\\dots$ \\\\\n",
       "\t3 & 7.8 & 0.76 & 0.04 & 2.3 & 0.092 & 15.0 & $\\dots$ \\\\\n",
       "\t4 & 11.2 & 0.28 & 0.56 & 1.9 & 0.075 & 17.0 & $\\dots$ \\\\\n",
       "\t5 & 7.4 & 0.7 & 0.0 & 1.9 & 0.076 & 11.0 & $\\dots$ \\\\\n",
       "\t6 & 7.4 & 0.66 & 0.0 & 1.8 & 0.075 & 13.0 & $\\dots$ \\\\\n",
       "\t7 & 7.9 & 0.6 & 0.06 & 1.6 & 0.069 & 15.0 & $\\dots$ \\\\\n",
       "\t8 & 7.3 & 0.65 & 0.0 & 1.2 & 0.065 & 15.0 & $\\dots$ \\\\\n",
       "\t9 & 7.8 & 0.58 & 0.02 & 2.0 & 0.073 & 9.0 & $\\dots$ \\\\\n",
       "\t10 & 7.5 & 0.5 & 0.36 & 6.1 & 0.071 & 17.0 & $\\dots$ \\\\\n",
       "\t11 & 6.7 & 0.58 & 0.08 & 1.8 & 0.097 & 15.0 & $\\dots$ \\\\\n",
       "\t12 & 7.5 & 0.5 & 0.36 & 6.1 & 0.071 & 17.0 & $\\dots$ \\\\\n",
       "\t13 & 5.6 & 0.615 & 0.0 & 1.6 & 0.089 & 16.0 & $\\dots$ \\\\\n",
       "\t14 & 7.8 & 0.61 & 0.29 & 1.6 & 0.114 & 9.0 & $\\dots$ \\\\\n",
       "\t15 & 8.9 & 0.62 & 0.18 & 3.8 & 0.176 & 52.0 & $\\dots$ \\\\\n",
       "\t16 & 8.9 & 0.62 & 0.19 & 3.9 & 0.17 & 51.0 & $\\dots$ \\\\\n",
       "\t17 & 8.5 & 0.28 & 0.56 & 1.8 & 0.092 & 35.0 & $\\dots$ \\\\\n",
       "\t18 & 8.1 & 0.56 & 0.28 & 1.7 & 0.368 & 16.0 & $\\dots$ \\\\\n",
       "\t19 & 7.4 & 0.59 & 0.08 & 4.4 & 0.086 & 6.0 & $\\dots$ \\\\\n",
       "\t20 & 7.9 & 0.32 & 0.51 & 1.8 & 0.341 & 17.0 & $\\dots$ \\\\\n",
       "\t21 & 8.9 & 0.22 & 0.48 & 1.8 & 0.077 & 29.0 & $\\dots$ \\\\\n",
       "\t22 & 7.6 & 0.39 & 0.31 & 2.3 & 0.082 & 23.0 & $\\dots$ \\\\\n",
       "\t23 & 7.9 & 0.43 & 0.21 & 1.6 & 0.106 & 10.0 & $\\dots$ \\\\\n",
       "\t24 & 8.5 & 0.49 & 0.11 & 2.3 & 0.084 & 9.0 & $\\dots$ \\\\\n",
       "\t25 & 6.9 & 0.4 & 0.14 & 2.4 & 0.085 & 21.0 & $\\dots$ \\\\\n",
       "\t26 & 6.3 & 0.39 & 0.16 & 1.4 & 0.08 & 11.0 & $\\dots$ \\\\\n",
       "\t27 & 7.6 & 0.41 & 0.24 & 1.8 & 0.08 & 4.0 & $\\dots$ \\\\\n",
       "\t28 & 7.9 & 0.43 & 0.21 & 1.6 & 0.106 & 10.0 & $\\dots$ \\\\\n",
       "\t29 & 7.1 & 0.71 & 0.0 & 1.9 & 0.08 & 14.0 & $\\dots$ \\\\\n",
       "\t30 & 7.8 & 0.645 & 0.0 & 2.0 & 0.082 & 8.0 & $\\dots$ \\\\\n",
       "\t$\\dots$ & $\\dots$ & $\\dots$ & $\\dots$ & $\\dots$ & $\\dots$ & $\\dots$ &  \\\\\n",
       "\\end{tabular}\n"
      ],
      "text/plain": [
       "\u001b[1m1599×12 DataFrame\u001b[0m\n",
       "\u001b[1m  Row \u001b[0m│\u001b[1m fixed acidity \u001b[0m\u001b[1m volatile acidity \u001b[0m\u001b[1m citric acid \u001b[0m\u001b[1m residual sugar \u001b[0m\u001b[1m chloride\u001b[0m ⋯\n",
       "\u001b[1m      \u001b[0m│\u001b[90m Float64       \u001b[0m\u001b[90m Float64          \u001b[0m\u001b[90m Float64     \u001b[0m\u001b[90m Float64        \u001b[0m\u001b[90m Float64 \u001b[0m ⋯\n",
       "──────┼─────────────────────────────────────────────────────────────────────────\n",
       "    1 │           7.4             0.7           0.0              1.9      0.07 ⋯\n",
       "    2 │           7.8             0.88          0.0              2.6      0.09\n",
       "    3 │           7.8             0.76          0.04             2.3      0.09\n",
       "    4 │          11.2             0.28          0.56             1.9      0.07\n",
       "    5 │           7.4             0.7           0.0              1.9      0.07 ⋯\n",
       "    6 │           7.4             0.66          0.0              1.8      0.07\n",
       "    7 │           7.9             0.6           0.06             1.6      0.06\n",
       "    8 │           7.3             0.65          0.0              1.2      0.06\n",
       "    9 │           7.8             0.58          0.02             2.0      0.07 ⋯\n",
       "   10 │           7.5             0.5           0.36             6.1      0.07\n",
       "   11 │           6.7             0.58          0.08             1.8      0.09\n",
       "  ⋮   │       ⋮               ⋮               ⋮             ⋮             ⋮    ⋱\n",
       " 1590 │           6.6             0.725         0.2              7.8      0.07\n",
       " 1591 │           6.3             0.55          0.15             1.8      0.07 ⋯\n",
       " 1592 │           5.4             0.74          0.09             1.7      0.08\n",
       " 1593 │           6.3             0.51          0.13             2.3      0.07\n",
       " 1594 │           6.8             0.62          0.08             1.9      0.06\n",
       " 1595 │           6.2             0.6           0.08             2.0      0.09 ⋯\n",
       " 1596 │           5.9             0.55          0.1              2.2      0.06\n",
       " 1597 │           6.3             0.51          0.13             2.3      0.07\n",
       " 1598 │           5.9             0.645         0.12             2.0      0.07\n",
       " 1599 │           6.0             0.31          0.47             3.6      0.06 ⋯\n",
       "\u001b[36m                                                 8 columns and 1578 rows omitted\u001b[0m"
      ]
     },
     "execution_count": 39,
     "metadata": {},
     "output_type": "execute_result"
    }
   ],
   "source": [
    "try\n",
    "    df = CSV.read(\"winequality-red.csv\", DataFrame);\n",
    "catch\n",
    "    println(\"Downloading winequality-red.csv from the UCI repository\")\n",
    "    using HTTP\n",
    "    r = HTTP.get(\"https://archive.ics.uci.edu/ml/machine-learning-databases/wine-quality/winequality-red.csv\")\n",
    "    df = CSV.read(r.body, DataFrame);\n",
    "    CSV.write(\"winequality-red.csv\", df)\n",
    "end"
   ]
  },
  {
   "cell_type": "code",
   "execution_count": 32,
   "id": "4be4afce",
   "metadata": {},
   "outputs": [],
   "source": [
    "X = df[:, 1:11];\n",
    "y = df[:, 12];"
   ]
  },
  {
   "cell_type": "code",
   "execution_count": 37,
   "id": "c4a345c5",
   "metadata": {},
   "outputs": [
    {
     "data": {
      "text/html": [
       "<div class=\"data-frame\"><p>10 rows × 11 columns (omitted printing of 5 columns)</p><table class=\"data-frame\"><thead><tr><th></th><th>fixed acidity</th><th>volatile acidity</th><th>citric acid</th><th>residual sugar</th><th>chlorides</th><th>free sulfur dioxide</th></tr><tr><th></th><th title=\"Float64\">Float64</th><th title=\"Float64\">Float64</th><th title=\"Float64\">Float64</th><th title=\"Float64\">Float64</th><th title=\"Float64\">Float64</th><th title=\"Float64\">Float64</th></tr></thead><tbody><tr><th>1</th><td>7.4</td><td>0.7</td><td>0.0</td><td>1.9</td><td>0.076</td><td>11.0</td></tr><tr><th>2</th><td>7.8</td><td>0.88</td><td>0.0</td><td>2.6</td><td>0.098</td><td>25.0</td></tr><tr><th>3</th><td>7.8</td><td>0.76</td><td>0.04</td><td>2.3</td><td>0.092</td><td>15.0</td></tr><tr><th>4</th><td>11.2</td><td>0.28</td><td>0.56</td><td>1.9</td><td>0.075</td><td>17.0</td></tr><tr><th>5</th><td>7.4</td><td>0.7</td><td>0.0</td><td>1.9</td><td>0.076</td><td>11.0</td></tr><tr><th>6</th><td>7.4</td><td>0.66</td><td>0.0</td><td>1.8</td><td>0.075</td><td>13.0</td></tr><tr><th>7</th><td>7.9</td><td>0.6</td><td>0.06</td><td>1.6</td><td>0.069</td><td>15.0</td></tr><tr><th>8</th><td>7.3</td><td>0.65</td><td>0.0</td><td>1.2</td><td>0.065</td><td>15.0</td></tr><tr><th>9</th><td>7.8</td><td>0.58</td><td>0.02</td><td>2.0</td><td>0.073</td><td>9.0</td></tr><tr><th>10</th><td>7.5</td><td>0.5</td><td>0.36</td><td>6.1</td><td>0.071</td><td>17.0</td></tr></tbody></table></div>"
      ],
      "text/latex": [
       "\\begin{tabular}{r|ccccccc}\n",
       "\t& fixed acidity & volatile acidity & citric acid & residual sugar & chlorides & free sulfur dioxide & \\\\\n",
       "\t\\hline\n",
       "\t& Float64 & Float64 & Float64 & Float64 & Float64 & Float64 & \\\\\n",
       "\t\\hline\n",
       "\t1 & 7.4 & 0.7 & 0.0 & 1.9 & 0.076 & 11.0 & $\\dots$ \\\\\n",
       "\t2 & 7.8 & 0.88 & 0.0 & 2.6 & 0.098 & 25.0 & $\\dots$ \\\\\n",
       "\t3 & 7.8 & 0.76 & 0.04 & 2.3 & 0.092 & 15.0 & $\\dots$ \\\\\n",
       "\t4 & 11.2 & 0.28 & 0.56 & 1.9 & 0.075 & 17.0 & $\\dots$ \\\\\n",
       "\t5 & 7.4 & 0.7 & 0.0 & 1.9 & 0.076 & 11.0 & $\\dots$ \\\\\n",
       "\t6 & 7.4 & 0.66 & 0.0 & 1.8 & 0.075 & 13.0 & $\\dots$ \\\\\n",
       "\t7 & 7.9 & 0.6 & 0.06 & 1.6 & 0.069 & 15.0 & $\\dots$ \\\\\n",
       "\t8 & 7.3 & 0.65 & 0.0 & 1.2 & 0.065 & 15.0 & $\\dots$ \\\\\n",
       "\t9 & 7.8 & 0.58 & 0.02 & 2.0 & 0.073 & 9.0 & $\\dots$ \\\\\n",
       "\t10 & 7.5 & 0.5 & 0.36 & 6.1 & 0.071 & 17.0 & $\\dots$ \\\\\n",
       "\\end{tabular}\n"
      ],
      "text/plain": [
       "\u001b[1m10×11 DataFrame\u001b[0m\n",
       "\u001b[1m Row \u001b[0m│\u001b[1m fixed acidity \u001b[0m\u001b[1m volatile acidity \u001b[0m\u001b[1m citric acid \u001b[0m\u001b[1m residual sugar \u001b[0m\u001b[1m chlorides\u001b[0m ⋯\n",
       "\u001b[1m     \u001b[0m│\u001b[90m Float64       \u001b[0m\u001b[90m Float64          \u001b[0m\u001b[90m Float64     \u001b[0m\u001b[90m Float64        \u001b[0m\u001b[90m Float64  \u001b[0m ⋯\n",
       "─────┼──────────────────────────────────────────────────────────────────────────\n",
       "   1 │           7.4              0.7          0.0              1.9      0.076 ⋯\n",
       "   2 │           7.8              0.88         0.0              2.6      0.098\n",
       "   3 │           7.8              0.76         0.04             2.3      0.092\n",
       "   4 │          11.2              0.28         0.56             1.9      0.075\n",
       "   5 │           7.4              0.7          0.0              1.9      0.076 ⋯\n",
       "   6 │           7.4              0.66         0.0              1.8      0.075\n",
       "   7 │           7.9              0.6          0.06             1.6      0.069\n",
       "   8 │           7.3              0.65         0.0              1.2      0.065\n",
       "   9 │           7.8              0.58         0.02             2.0      0.073 ⋯\n",
       "  10 │           7.5              0.5          0.36             6.1      0.071\n",
       "\u001b[36m                                                               6 columns omitted\u001b[0m"
      ]
     },
     "execution_count": 37,
     "metadata": {},
     "output_type": "execute_result"
    }
   ],
   "source": [
    "first(X, 10)"
   ]
  },
  {
   "cell_type": "code",
   "execution_count": null,
   "id": "e0b9617f",
   "metadata": {},
   "outputs": [],
   "source": []
  }
 ],
 "metadata": {
  "hide_input": false,
  "kernelspec": {
   "display_name": "Julia 1.6.2",
   "language": "julia",
   "name": "julia-1.6"
  },
  "language_info": {
   "file_extension": ".jl",
   "mimetype": "application/julia",
   "name": "julia",
   "version": "1.6.2"
  }
 },
 "nbformat": 4,
 "nbformat_minor": 5
}
